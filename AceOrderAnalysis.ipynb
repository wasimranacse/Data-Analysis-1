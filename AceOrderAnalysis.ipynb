{
 "cells": [
  {
   "cell_type": "code",
   "execution_count": 1,
   "id": "7b379b1a-3ad8-4f20-b538-51b1ca450b65",
   "metadata": {},
   "outputs": [],
   "source": [
    "import pandas as pd\n"
   ]
  },
  {
   "cell_type": "code",
   "execution_count": 7,
   "id": "4e0dc497-6bf8-46a6-a68b-4e4501b14dd7",
   "metadata": {},
   "outputs": [
    {
     "name": "stdout",
     "output_type": "stream",
     "text": [
      "   Order Number Order Status        Order Date First Name (Billing)  \\\n",
      "0         14132   Processing  2024-09-30 18:13            Christine   \n",
      "1         14131   Processing  2024-09-30 17:58              Jessica   \n",
      "2         14119   Processing  2024-09-30 15:22               Dessie   \n",
      "3         14075   Processing  2024-09-29 02:42                  Joy   \n",
      "4         14073   Processing  2024-09-28 15:50              allyssa   \n",
      "\n",
      "  Last Name (Billing)             Company (Billing)  \\\n",
      "0             Sanchez  Sanchez Here Productions LLC   \n",
      "1              Mobley           DESIGN 2 WEAR 2 LLC   \n",
      "2               Coder                Cheer Bows Etc   \n",
      "3              Ridley                 J&J Creations   \n",
      "4              Travis                           NaN   \n",
      "\n",
      "             Address 1&2 (Billing) City (Billing) State Code (Billing)  \\\n",
      "0                 5150 Marton Road      Ann Arbor                   MI   \n",
      "1                 1112 Central Ave     Middletown                   OH   \n",
      "2  400 Colemans Crossing Boulevard     Marysville                   OH   \n",
      "3                 191 Hillcrest dr     Springboro                   OH   \n",
      "4                   1603 Kenton St    Springfield                   OH   \n",
      "\n",
      "  Postcode (Billing)  ... Country Code (Shipping)  \\\n",
      "0              48108  ...                      US   \n",
      "1         45044-4011  ...                      US   \n",
      "2              43040  ...                      US   \n",
      "3              45066  ...                      US   \n",
      "4         45505-3301  ...                      US   \n",
      "\n",
      "                        Payment Method Title Cart Discount Amount  \\\n",
      "0  PayPal - sanchezhereproductions@gmail.com                  0.0   \n",
      "1            PayPal - design2wear2@yahoo.com                 75.0   \n",
      "2            PayPal - cheerbowsetc@gmail.com                 99.0   \n",
      "3              PayPal - joycridley@gmail.com                 50.0   \n",
      "4            PayPal - allyssaboggs@yahoo.com                  0.0   \n",
      "\n",
      "  Order Subtotal Amount Shipping Method Title Order Shipping Amount  \\\n",
      "0                 140.0           UPS® Ground                 15.79   \n",
      "1                 242.5           UPS® Ground                 10.69   \n",
      "2                 468.0      Warehouse Pickup                  0.00   \n",
      "3                 300.0      Warehouse Pickup                  0.00   \n",
      "4                  55.0      Warehouse Pickup                  0.00   \n",
      "\n",
      "  Order Refund Amount Order Total Amount Order Total Tax Amount  \\\n",
      "0                 0.0             155.79                      0   \n",
      "1                 0.0             178.19                      0   \n",
      "2                 0.0             369.00                      0   \n",
      "3                 0.0             250.00                      0   \n",
      "4                 0.0              55.00                      0   \n",
      "\n",
      "  Discount Amount  \n",
      "0             NaN  \n",
      "1            75.0  \n",
      "2            99.0  \n",
      "3            50.0  \n",
      "4             NaN  \n",
      "\n",
      "[5 rows x 29 columns]\n"
     ]
    }
   ],
   "source": [
    "# Load your sales data\n",
    "OrderData = pd.read_csv('C:/Users/wasim/OneDrive/Desktop/MySQL/Data Analysis/AceOrders2324.csv')\n",
    "\n",
    "print(OrderData.head())"
   ]
  },
  {
   "cell_type": "code",
   "execution_count": 9,
   "id": "bc837791-090b-46d9-9b77-e861b4820349",
   "metadata": {},
   "outputs": [],
   "source": [
    "# Convert 'Order Date' to datetime\n",
    "OrderData['Order Date'] = pd.to_datetime(OrderData['Order Date'])"
   ]
  },
  {
   "cell_type": "code",
   "execution_count": null,
   "id": "64c14dcf-0438-4a44-a760-705d7afad72c",
   "metadata": {},
   "outputs": [],
   "source": []
  }
 ],
 "metadata": {
  "kernelspec": {
   "display_name": "Python 3 (ipykernel)",
   "language": "python",
   "name": "python3"
  },
  "language_info": {
   "codemirror_mode": {
    "name": "ipython",
    "version": 3
   },
   "file_extension": ".py",
   "mimetype": "text/x-python",
   "name": "python",
   "nbconvert_exporter": "python",
   "pygments_lexer": "ipython3",
   "version": "3.11.7"
  }
 },
 "nbformat": 4,
 "nbformat_minor": 5
}
